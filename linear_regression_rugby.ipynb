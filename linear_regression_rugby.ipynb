{
 "cells": [
  {
   "cell_type": "markdown",
   "metadata": {},
   "source": [
    "# Import Libraries"
   ]
  },
  {
   "cell_type": "code",
   "execution_count": null,
   "metadata": {},
   "outputs": [],
   "source": [
    "# General libraries\n",
    "import numpy as np\n",
    "import pandas as pd\n",
    "import matplotlib.pyplot as plt\n",
    "import seaborn as sns\n",
    "import pickle\n",
    "import re\n",
    "import time\n",
    "import os \n",
    "import datetime\n",
    "\n",
    "# Webscraping\n",
    "import requests\n",
    "from bs4 import BeautifulSoup \n",
    "from selenium import webdriver\n",
    "from selenium.webdriver.common.keys import Keys \n",
    "\n",
    "# Cleaning & Modelling function made specifically\n",
    "from scraping_funcs import *\n",
    "from modelling_funcs import *\n",
    "\n",
    "# Modelling\n",
    "import patsy\n",
    "import scipy.stats as stats\n",
    "\n",
    "import statsmodels.api as sm\n",
    "import statsmodels.formula.api as smf\n",
    "\n",
    "from sklearn import preprocessing\n",
    "from sklearn.linear_model import LinearRegression, Ridge, Lasso\n",
    "from sklearn.model_selection import train_test_split, KFold\n",
    "from sklearn.preprocessing import StandardScaler\n",
    "from sklearn.metrics import r2_score\n",
    "\n",
    "%matplotlib inline"
   ]
  },
  {
   "cell_type": "markdown",
   "metadata": {},
   "source": [
    "---"
   ]
  },
  {
   "cell_type": "markdown",
   "metadata": {},
   "source": [
    "# Obtain Data"
   ]
  },
  {
   "cell_type": "markdown",
   "metadata": {},
   "source": [
    "## England Statistics Data\n",
    "- Source: ESPN Stats Guru"
   ]
  },
  {
   "cell_type": "code",
   "execution_count": null,
   "metadata": {},
   "outputs": [],
   "source": [
    "page_nums = list(range(0,6)) # 5 pages of data on website \n",
    "rugby_stats = get_stats(page_nums)\n",
    "\n",
    "with open('rugby_stats.pickle', 'wb') as to_write:\n",
    "    pickle.dump(rugby_stats, to_write)"
   ]
  },
  {
   "cell_type": "markdown",
   "metadata": {},
   "source": [
    "---"
   ]
  },
  {
   "cell_type": "markdown",
   "metadata": {},
   "source": [
    "## World Rankings Data\n",
    "- Source: World Rugby"
   ]
  },
  {
   "cell_type": "code",
   "execution_count": null,
   "metadata": {},
   "outputs": [],
   "source": [
    "# Create list of Years from 2004 - 2019\n",
    "my_years = list(range(2004,2020))"
   ]
  },
  {
   "cell_type": "code",
   "execution_count": null,
   "metadata": {},
   "outputs": [],
   "source": [
    "dfs = []\n",
    "\n",
    "for year in my_years:\n",
    "    \n",
    "    # Use selenium to access each year of rankings on website\n",
    "    chromedriver = \"/Applications/chromedriver\"\n",
    "    os.environ[\"webdriver.chrome.driver\"] = chromedriver\n",
    "    \n",
    "    # Open webpage\n",
    "    driver = webdriver.Chrome(chromedriver)\n",
    "    driver.get(\"https://www.world.rugby/rankings/mru#!\")\n",
    "    \n",
    "    # Close cookies pop-up\n",
    "    element = driver.find_element_by_class_name(\"js-cookie-accept-button\")\n",
    "    element.click()\n",
    "    time.sleep(2)\n",
    "    \n",
    "    # Locate year drop down\n",
    "    element = driver.find_element_by_xpath('//div[@data-date-drop=\"year\"]')\n",
    "    element.click()\n",
    "    time.sleep(2)\n",
    "    \n",
    "    # Locate Year from list of years\n",
    "    element = driver.find_element_by_xpath('//li[@value={}]'.format(str(year)))\n",
    "    element.click()\n",
    "    time.sleep(2)\n",
    "    \n",
    "    # Access'Full Rankings'\n",
    "    element = driver.find_element_by_class_name(\"showMore\")\n",
    "    element.click()\n",
    "    \n",
    "    # Use BS to parse html\n",
    "    soup = BeautifulSoup(driver.page_source, 'html.parser')\n",
    "    soup.find(\"fullRankings\")\n",
    "    soup.find(class_=\"fullRankings\")\n",
    "    \n",
    "    # Create dataframe of World Rankings\n",
    "    rankings_df = pd.read_html(str(soup.find(class_=\"fullRankings\")))[0]\n",
    "    \n",
    "    # Clean dataframe using function \n",
    "    clean = pd.DataFrame(clean_dataframe(rankings_df))\n",
    "    \n",
    "    # Append to list\n",
    "    dfs.append(clean)\n",
    "    \n",
    "    # Close Window\n",
    "    driver.close()\n",
    "\n",
    "# Return 1 dataframe for all World Ranking Data & save for later\n",
    "final_rankings_df = pd.concat(dfs)\n",
    "with open('final_rankings_df.pickle', 'wb') as to_write:\n",
    "    pickle.dump(final_rankings_df, to_write)"
   ]
  },
  {
   "cell_type": "markdown",
   "metadata": {},
   "source": [
    "---"
   ]
  },
  {
   "cell_type": "markdown",
   "metadata": {},
   "source": [
    "## Coach Data \n",
    "- Source: Wikipedia"
   ]
  },
  {
   "cell_type": "code",
   "execution_count": null,
   "metadata": {},
   "outputs": [],
   "source": [
    "url = \"https://en.wikipedia.org/wiki/England_national_rugby_union_team\"\n",
    "response = requests.get(url)\n",
    "page = response.text\n",
    "soup = BeautifulSoup(page, \"lxml\")\n",
    "\n",
    "# Locate correct table & headers\n",
    "tables = soup.find_all(\"table\", class_=\"sortable wikitable\")\n",
    "coach_table = tables[1]\n",
    "headers_list = header_list(coach_table)\n",
    "\n",
    "# Locate data for each row in table & clean list\n",
    "td_values = tables[1].find_all('td')\n",
    "list_vars = [i.text for i in td_values]\n",
    "list_vars = clean_list(list_vars)\n",
    "\n",
    "# Group every 7 records into 1 item in a list\n",
    "records = lambda list_vars, n=7: [list_vars[i:i+n] for i in range(0, len(list_vars), n)]\n",
    "coaches_list = records(tuple(list_vars))\n",
    "\n",
    "# Create dataframe of Coaches from header_list and coaches_list\n",
    "coaches_df = pd.DataFrame(coaches_list, columns=headers_list)\n",
    "coaches_df = clean_coaches(coaches_df)\n",
    "with open('coaches_df.pickle', 'wb') as to_write:\n",
    "    pickle.dump(coaches_df, to_write)"
   ]
  },
  {
   "cell_type": "markdown",
   "metadata": {},
   "source": [
    "---"
   ]
  },
  {
   "cell_type": "markdown",
   "metadata": {},
   "source": [
    "# Assumptions & Alterations"
   ]
  },
  {
   "cell_type": "markdown",
   "metadata": {},
   "source": [
    "## Assumptions\n",
    "- As World Rankings data from 2000-2004 is unavailable, I'll make the assumption that the ranking prior to 2004 is the 2004 ranking."
   ]
  },
  {
   "cell_type": "code",
   "execution_count": null,
   "metadata": {},
   "outputs": [],
   "source": [
    "# Need to change 'Year' column to merge correct and assumed World Rankings\n",
    "rugby_stats[\"Year\"] = rugby_stats[\"Year\"].apply(change_year)\n",
    "rugby_stats['Year'] = rugby_stats['Year'].astype(int)"
   ]
  },
  {
   "cell_type": "code",
   "execution_count": null,
   "metadata": {
    "scrolled": true
   },
   "outputs": [],
   "source": [
    "# Create dictionary of England World Ranking each for each Year\n",
    "england_rank = list(final_rankings_df.loc[final_rankings_df['Countries'] == \"England\"].Position)\n",
    "england_rank = dict(zip(my_years, england_rank))"
   ]
  },
  {
   "cell_type": "code",
   "execution_count": null,
   "metadata": {},
   "outputs": [],
   "source": [
    "# Create new 'England World Rank' column on Rankings df - depenedent on the year of the match\n",
    "def eng_rank(year):\n",
    "    return england_rank[year]\n",
    "final_rankings_df[\"EnglandWorldRank\"] = final_rankings_df[\"Year\"].apply(eng_rank).astype(int)"
   ]
  },
  {
   "cell_type": "markdown",
   "metadata": {},
   "source": [
    "---"
   ]
  },
  {
   "cell_type": "markdown",
   "metadata": {},
   "source": [
    "## Merge Statistics and World Ranking Dataframes"
   ]
  },
  {
   "cell_type": "code",
   "execution_count": null,
   "metadata": {
    "scrolled": true
   },
   "outputs": [],
   "source": [
    "# Merge and remove Year - as this is only used to correctly merge the world ranking data\n",
    "stats_rank = rugby_stats.merge(final_rankings_df, on=[\"Year\", \"Countries\"])\n",
    "stats_rank.drop(['Year'], axis=1, inplace=True)\n",
    "stats_rank.head()"
   ]
  },
  {
   "cell_type": "markdown",
   "metadata": {},
   "source": [
    "---"
   ]
  },
  {
   "cell_type": "markdown",
   "metadata": {},
   "source": [
    "## Add Coach Win Percentage Data"
   ]
  },
  {
   "cell_type": "markdown",
   "metadata": {},
   "source": [
    "- Merge Coach Win Percentage Data dependent on Match Date in range of each coach's tenure."
   ]
  },
  {
   "cell_type": "code",
   "execution_count": null,
   "metadata": {},
   "outputs": [],
   "source": [
    "# Create Coach win percentage dependent on the years that the coach's tenure\n",
    "stats_rank = stats_rank.assign(key=1)\n",
    "coaches_df = coaches_df.assign(key=1)\n",
    "rugby = pd.merge(stats_rank, coaches_df, on='key').drop('key',axis=1)\n",
    "rugby = rugby.query('MatchDate >= start and MatchDate <= end')"
   ]
  },
  {
   "cell_type": "markdown",
   "metadata": {},
   "source": [
    "---"
   ]
  },
  {
   "cell_type": "markdown",
   "metadata": {},
   "source": [
    "## Sort Columns & Shift Statistics"
   ]
  },
  {
   "cell_type": "code",
   "execution_count": null,
   "metadata": {},
   "outputs": [],
   "source": [
    "# Tidy up columns\n",
    "rugby.drop(['index', 'Name', 'start', 'end'], axis=1, inplace=True)"
   ]
  },
  {
   "cell_type": "code",
   "execution_count": null,
   "metadata": {},
   "outputs": [],
   "source": [
    "# Split date into Month and Year column\n",
    "def date_to_month(date):\n",
    "    month = (datetime.datetime.strptime(date, \"%Y-%m-%d\")).month\n",
    "    return month\n",
    "\n",
    "def date_to_year(date):\n",
    "    year = (datetime.datetime.strptime(date, \"%Y-%m-%d\")).year\n",
    "    return year\n",
    "\n",
    "rugby[\"Month\"] = rugby[\"MatchDate\"].astype(str).apply(date_to_month)\n",
    "rugby[\"Year\"] = rugby[\"MatchDate\"].astype(str).apply(date_to_year)"
   ]
  },
  {
   "cell_type": "code",
   "execution_count": null,
   "metadata": {},
   "outputs": [],
   "source": [
    "# Sort by date & add statistics columns\n",
    "rugby = rugby.sort_values('MatchDate').reset_index(drop=True)\n",
    "\n",
    "rugby[\"Average\"] = rugby['For'].expanding().mean().round(2).shift(1) # Create an expanding mean to update the average score for each match\n",
    "rugby[[\"ConceededPrevGame\", \"TriesScoredPrevGame\", \"ConversionsPrevGame\"]] = (rugby[[\"Aga\", \"Tries\", \"Conv\"]].shift(1))\n",
    "\n",
    "rugby = rugby.dropna()\n",
    "rugby[[\"Position\", \"ConceededPrevGame\", \"TriesScoredPrevGame\", \"ConversionsPrevGame\", \"Winpercent\"]] = (rugby[[\"Position\", \"ConceededPrevGame\", \"TriesScoredPrevGame\", \"ConversionsPrevGame\", \"Winpercent\"]].astype(int))\n",
    "rugby.drop(['Aga', 'Tries', 'Conv', 'MatchDate'], axis=1, inplace=True)\n",
    "\n",
    "# Rename Columns \n",
    "rugby.rename(columns={'For': 'Score', 'Countries': 'Opponent', 'Position': 'OpponentWorldRanking', 'Average': 'AverageScorePriorToMatch'}, inplace=True)\n",
    "\n",
    "# Final dataframe to work with\n",
    "with open('rugby.pickle', 'wb') as to_write:\n",
    "    pickle.dump(rugby, to_write)"
   ]
  },
  {
   "cell_type": "markdown",
   "metadata": {},
   "source": [
    "---"
   ]
  },
  {
   "cell_type": "markdown",
   "metadata": {},
   "source": [
    "# Modelling"
   ]
  },
  {
   "cell_type": "markdown",
   "metadata": {},
   "source": [
    "## Feature Assessment"
   ]
  },
  {
   "cell_type": "code",
   "execution_count": null,
   "metadata": {},
   "outputs": [],
   "source": [
    "# assess the features compated to each other - check correlation to reduce multi-collinearity\n",
    "plt.figure(figsize=(8,6))\n",
    "sns.heatmap(rugby.corr(), cmap=\"seismic\", annot=True, vmin=-1, vmax=1);"
   ]
  },
  {
   "cell_type": "code",
   "execution_count": null,
   "metadata": {
    "scrolled": true
   },
   "outputs": [],
   "source": [
    "sns.pairplot(rugby, diag_kind=\"kde\");"
   ]
  },
  {
   "cell_type": "markdown",
   "metadata": {},
   "source": [
    "- **Initial Observations:**\n",
    "- Opponent World Rank - biggest positive influencer on score.\n",
    "- Tries prev Game and Conversions prev Game very highly correlated\n",
    "- Score, Opponent World Ranking, Tries/Conv/Conceeded Prev Game all right skewed."
   ]
  },
  {
   "cell_type": "code",
   "execution_count": null,
   "metadata": {},
   "outputs": [],
   "source": [
    "# look at Tries vs Conversions in more detail\n",
    "X = rugby[['TriesScoredPrevGame']]\n",
    "y = rugby[['ConversionsPrevGame']]\n",
    "\n",
    "model = sm.OLS(y,X)\n",
    "fit = model.fit()\n",
    "fit.summary()"
   ]
  },
  {
   "cell_type": "markdown",
   "metadata": {},
   "source": [
    "- r2 of 0.936 and p-val of 0\n",
    "- Remove to reduce multicollinearity"
   ]
  },
  {
   "cell_type": "code",
   "execution_count": null,
   "metadata": {},
   "outputs": [],
   "source": [
    "# Conversions only get the opportunity once a try has been scored - therefore if conversion rate is high, then they\n",
    "# are likely to capture to similiar data - high points = high conversions\n",
    "rugby.drop(['ConversionsPrevGame'], axis=1, inplace=True)"
   ]
  },
  {
   "cell_type": "markdown",
   "metadata": {},
   "source": [
    "---"
   ]
  },
  {
   "cell_type": "markdown",
   "metadata": {},
   "source": [
    "## Regression 1 - Linear Regression (all features)"
   ]
  },
  {
   "cell_type": "code",
   "execution_count": null,
   "metadata": {},
   "outputs": [],
   "source": [
    "# Get all dummy variables\n",
    "rugby1 = rugby.join(pd.get_dummies(rugby[['Opponent', 'Where']], drop_first=True))\n",
    "rugby1.drop(['Opponent', 'Where'], axis=1, inplace=True)"
   ]
  },
  {
   "cell_type": "code",
   "execution_count": null,
   "metadata": {},
   "outputs": [],
   "source": [
    "X, y = rugby1.drop(\"Score\", axis=1), rugby1[\"Score\"]\n",
    "X_train, X_hold_out, y_train, y_hold_out = train_test_split(X, y, test_size=.2, random_state=27) # 80% Train 20% Test\n",
    "kf = KFold(n_splits=5, shuffle=True, random_state = 27)"
   ]
  },
  {
   "cell_type": "code",
   "execution_count": null,
   "metadata": {},
   "outputs": [],
   "source": [
    "reg_plot(X_train, y_train)"
   ]
  },
  {
   "cell_type": "markdown",
   "metadata": {},
   "source": [
    "- Residuals follow QQ plot, however outliers may be affecting residual plot"
   ]
  },
  {
   "cell_type": "code",
   "execution_count": null,
   "metadata": {},
   "outputs": [],
   "source": [
    "lin_reg(rugby1, \"Score\")"
   ]
  },
  {
   "cell_type": "markdown",
   "metadata": {},
   "source": [
    "- **RESULT**: Overfitting\n",
    "- **ACTION**: Try Ridge and LASSO Regressions to find most important features"
   ]
  },
  {
   "cell_type": "code",
   "execution_count": null,
   "metadata": {},
   "outputs": [],
   "source": [
    "columns = list(rugby1.drop(\"Score\", axis=1))\n",
    "ridge_reg(X_train, y_train, columns)"
   ]
  },
  {
   "cell_type": "code",
   "execution_count": null,
   "metadata": {},
   "outputs": [],
   "source": [
    "lasso_reg(X_train, y_train, columns)"
   ]
  },
  {
   "cell_type": "markdown",
   "metadata": {},
   "source": [
    "- **RESULT:** Both models still overfitting, LASSO zeroed EnglandWorldRank, TriesScoredPrevGame, ConceededPrevGame and a lot of the opponents.\n",
    "- **ACTION:** Remove these columns and try Linear Regression again. "
   ]
  },
  {
   "cell_type": "markdown",
   "metadata": {},
   "source": [
    "---"
   ]
  },
  {
   "cell_type": "markdown",
   "metadata": {},
   "source": [
    "## Regression 2 - Linear Regression - dropped features determined by LASSO"
   ]
  },
  {
   "cell_type": "code",
   "execution_count": null,
   "metadata": {},
   "outputs": [],
   "source": [
    "# Get dummies and remove columns \n",
    "rugby2 = rugby.join(pd.get_dummies(rugby[['Opponent', 'Where']], drop_first=True))\n",
    "rugby2.drop(['EnglandWorldRank', 'ConceededPrevGame','TriesScoredPrevGame', 'Opponent_Australia', 'Opponent_France', 'Opponent_Japan', 'Opponent_NewZealand', 'Opponent_Samoa', 'Opponent_Scotland', 'Opponent_SouthAfrica', 'Opponent_Tonga','Opponent_USA','Where','Opponent'], axis=1, inplace=True)"
   ]
  },
  {
   "cell_type": "code",
   "execution_count": null,
   "metadata": {},
   "outputs": [],
   "source": [
    "X, y = rugby2.drop(\"Score\", axis=1), rugby2[\"Score\"]\n",
    "X_train, X_hold_out, y_train, y_hold_out = train_test_split(X, y, test_size=.2, random_state=27) # 80% Train 20% Test\n",
    "kf = KFold(n_splits=5, shuffle=True, random_state = 27)"
   ]
  },
  {
   "cell_type": "code",
   "execution_count": null,
   "metadata": {
    "scrolled": true
   },
   "outputs": [],
   "source": [
    "reg_plot(X_train, y_train)"
   ]
  },
  {
   "cell_type": "markdown",
   "metadata": {},
   "source": [
    "- Residuals a little more random and QQ residuals following QQ plot"
   ]
  },
  {
   "cell_type": "code",
   "execution_count": null,
   "metadata": {},
   "outputs": [],
   "source": [
    "lin_reg(rugby2, \"Score\")"
   ]
  },
  {
   "cell_type": "markdown",
   "metadata": {},
   "source": [
    "- **RESULT**: Decreased different in r2 values, but model still overfitting.\n",
    "- **ACTION**: Try LASSO and Ridge again."
   ]
  },
  {
   "cell_type": "code",
   "execution_count": null,
   "metadata": {},
   "outputs": [],
   "source": [
    "columns = list(rugby2.drop(\"Score\", axis=1))"
   ]
  },
  {
   "cell_type": "code",
   "execution_count": null,
   "metadata": {},
   "outputs": [],
   "source": [
    "lasso_reg(X_train, y_train, columns)"
   ]
  },
  {
   "cell_type": "code",
   "execution_count": null,
   "metadata": {},
   "outputs": [],
   "source": [
    "ridge_reg(X_train, y_train, columns)"
   ]
  },
  {
   "cell_type": "markdown",
   "metadata": {},
   "source": [
    "- **RESULT**: Both models still overfitting, Lasso has zeroed some more opponents.\n",
    "- **ACTION**: Simplify even more - remove all the opponents."
   ]
  },
  {
   "cell_type": "markdown",
   "metadata": {},
   "source": [
    "---"
   ]
  },
  {
   "cell_type": "markdown",
   "metadata": {},
   "source": [
    "## Regression 3 - Simplified Linear Regression"
   ]
  },
  {
   "cell_type": "code",
   "execution_count": null,
   "metadata": {},
   "outputs": [],
   "source": [
    "rugby3 = rugby.join(pd.get_dummies(rugby['Where'], drop_first=True))\n",
    "rugby3.drop(['EnglandWorldRank', 'AverageScorePriorToMatch','Opponent', 'Where'], axis=1, inplace=True)"
   ]
  },
  {
   "cell_type": "code",
   "execution_count": null,
   "metadata": {},
   "outputs": [],
   "source": [
    "X, y = rugby3.drop(\"Score\", axis=1), rugby3[\"Score\"]\n",
    "X_train, X_hold_out, y_train, y_hold_out = train_test_split(X, y, test_size=.2, random_state=27) # 80% Train 20% Test\n",
    "kf = KFold(n_splits=5, shuffle=True, random_state = 27)"
   ]
  },
  {
   "cell_type": "code",
   "execution_count": null,
   "metadata": {},
   "outputs": [],
   "source": [
    "reg_plot(X_train, y_train)"
   ]
  },
  {
   "cell_type": "code",
   "execution_count": null,
   "metadata": {},
   "outputs": [],
   "source": [
    "lin_reg(rugby3, 'Score')"
   ]
  },
  {
   "cell_type": "markdown",
   "metadata": {},
   "source": [
    "- **RESULT:** Better generalising but still 1.2 between r2s\n",
    "- **ACTION:** Ridge and LASSO again."
   ]
  },
  {
   "cell_type": "code",
   "execution_count": null,
   "metadata": {},
   "outputs": [],
   "source": [
    "columns = list(rugby3.drop(\"Score\", axis=1))"
   ]
  },
  {
   "cell_type": "code",
   "execution_count": null,
   "metadata": {},
   "outputs": [],
   "source": [
    "ridge_reg(X_train, y_train, columns)"
   ]
  },
  {
   "cell_type": "code",
   "execution_count": null,
   "metadata": {},
   "outputs": [],
   "source": [
    "lasso_reg(X_train, y_train, columns)"
   ]
  },
  {
   "cell_type": "markdown",
   "metadata": {},
   "source": [
    "- **RESULT:** Still overfitting. \n",
    "- **ACTION:** Go back and transform score."
   ]
  },
  {
   "cell_type": "markdown",
   "metadata": {},
   "source": [
    "---"
   ]
  },
  {
   "cell_type": "markdown",
   "metadata": {},
   "source": [
    "## Regression 4 - Transform score using sqrt"
   ]
  },
  {
   "cell_type": "code",
   "execution_count": null,
   "metadata": {},
   "outputs": [],
   "source": [
    "rugby4 = rugby3"
   ]
  },
  {
   "cell_type": "code",
   "execution_count": null,
   "metadata": {},
   "outputs": [],
   "source": [
    "# Transform score\n",
    "rugby4[\"sqrtscore\"] = np.sqrt(rugby4[\"Score\"])\n",
    "rugby4.drop(\"Score\", axis=1, inplace=True)\n",
    "plt.hist(rugby4[\"sqrtscore\"]);"
   ]
  },
  {
   "cell_type": "code",
   "execution_count": null,
   "metadata": {},
   "outputs": [],
   "source": [
    "X, y = rugby4.drop(\"sqrtscore\", axis=1), rugby4[\"sqrtscore\"]\n",
    "X_train, X_hold_out, y_train, y_hold_out = train_test_split(X, y, test_size=.2, random_state=27) # 80% Train 20% Test\n",
    "kf = KFold(n_splits=5, shuffle=True, random_state = 27)"
   ]
  },
  {
   "cell_type": "code",
   "execution_count": null,
   "metadata": {},
   "outputs": [],
   "source": [
    "reg_plot(X_train, y_train)"
   ]
  },
  {
   "cell_type": "code",
   "execution_count": null,
   "metadata": {},
   "outputs": [],
   "source": [
    "lin_reg(rugby4, 'sqrtscore')"
   ]
  },
  {
   "cell_type": "markdown",
   "metadata": {},
   "source": [
    "- **RESULT:** r2 difference 0.94 but still overfitting.\n",
    "- **ACTION**: LASSO and Ridge"
   ]
  },
  {
   "cell_type": "code",
   "execution_count": null,
   "metadata": {},
   "outputs": [],
   "source": [
    "columns = list(rugby4.drop(\"sqrtscore\", axis=1))"
   ]
  },
  {
   "cell_type": "code",
   "execution_count": null,
   "metadata": {},
   "outputs": [],
   "source": [
    "ridge_reg(X_train, y_train, columns)"
   ]
  },
  {
   "cell_type": "code",
   "execution_count": null,
   "metadata": {},
   "outputs": [],
   "source": [
    "lasso_reg(X_train, y_train, columns)"
   ]
  },
  {
   "cell_type": "markdown",
   "metadata": {},
   "source": [
    "- **RESULT:** LASSO zeroed ConceededPrevGame and TriesScoredPrevGame - but less overfitting 0.5 difference in r2\n",
    "- **ACTION:** Remove ConceededPrevGame and TriesScoredPrevGame"
   ]
  },
  {
   "cell_type": "markdown",
   "metadata": {},
   "source": [
    "---"
   ]
  },
  {
   "cell_type": "markdown",
   "metadata": {
    "heading_collapsed": true
   },
   "source": [
    "## Regression 5  - Simplified features and score sqrted"
   ]
  },
  {
   "cell_type": "code",
   "execution_count": null,
   "metadata": {
    "hidden": true
   },
   "outputs": [],
   "source": [
    "rugby5 = rugby4"
   ]
  },
  {
   "cell_type": "code",
   "execution_count": null,
   "metadata": {
    "hidden": true
   },
   "outputs": [],
   "source": [
    "rugby5.drop([\"TriesScoredPrevGame\", \"ConceededPrevGame\"], axis=1, inplace=True)"
   ]
  },
  {
   "cell_type": "code",
   "execution_count": null,
   "metadata": {
    "hidden": true
   },
   "outputs": [],
   "source": [
    "X, y = rugby5.drop(\"sqrtscore\", axis=1), rugby5[\"sqrtscore\"] # Full dataset\n",
    "\n",
    "X_train, X_hold_out, y_train, y_hold_out = train_test_split(X, y, test_size=.2, random_state=27) # 80% Train 20% Test\n",
    "\n",
    "kf = KFold(n_splits=5, shuffle=True, random_state = 27)"
   ]
  },
  {
   "cell_type": "code",
   "execution_count": null,
   "metadata": {
    "hidden": true
   },
   "outputs": [],
   "source": [
    "reg_plot(X_train, y_train)"
   ]
  },
  {
   "cell_type": "markdown",
   "metadata": {
    "hidden": true
   },
   "source": [
    "- Little change in residiual plot and QQ plot from rugby4"
   ]
  },
  {
   "cell_type": "code",
   "execution_count": null,
   "metadata": {
    "hidden": true
   },
   "outputs": [],
   "source": [
    "lin_reg(rugby5, 'sqrtscore')"
   ]
  },
  {
   "cell_type": "markdown",
   "metadata": {
    "hidden": true
   },
   "source": [
    "- Slight change in difference between r2 - 0.88 - still overfitting"
   ]
  },
  {
   "cell_type": "code",
   "execution_count": null,
   "metadata": {
    "hidden": true
   },
   "outputs": [],
   "source": [
    "columns = list(rugby5.drop(\"sqrtscore\", axis=1))"
   ]
  },
  {
   "cell_type": "code",
   "execution_count": null,
   "metadata": {
    "hidden": true
   },
   "outputs": [],
   "source": [
    "ridge_reg(X_train, y_train, columns)"
   ]
  },
  {
   "cell_type": "code",
   "execution_count": null,
   "metadata": {
    "hidden": true
   },
   "outputs": [],
   "source": [
    "lasso_reg(X_train, y_train, columns)"
   ]
  },
  {
   "cell_type": "markdown",
   "metadata": {
    "hidden": true
   },
   "source": [
    "- **RESULT:** LASSO no longer zeroed any more features and r2's remained the same as rugby4. Ridge model still overfits. LASSO gives best alpha as 0.1\n",
    "- **ACTION:** LASSO gives model - run on test data\n"
   ]
  },
  {
   "cell_type": "markdown",
   "metadata": {
    "hidden": true
   },
   "source": [
    "---"
   ]
  },
  {
   "cell_type": "markdown",
   "metadata": {},
   "source": [
    "## Run Model on Test Data"
   ]
  },
  {
   "cell_type": "code",
   "execution_count": null,
   "metadata": {},
   "outputs": [],
   "source": [
    "# Scale test data\n",
    "scaler = StandardScaler()\n",
    "X_train_scaled = scaler.fit_transform(X_train)\n",
    "X_hold_out_scaled = scaler.transform(X_hold_out)"
   ]
  },
  {
   "cell_type": "code",
   "execution_count": null,
   "metadata": {},
   "outputs": [],
   "source": [
    "# Run model & print coefficients\n",
    "lasso_model = Lasso(alpha=0.1)\n",
    "lasso_model.fit(X_train_scaled, y_train)\n",
    "list(zip(columns, (lasso_model.coef_).round(2)))"
   ]
  },
  {
   "cell_type": "code",
   "execution_count": null,
   "metadata": {},
   "outputs": [],
   "source": [
    "pred = lasso_model.predict(X_hold_out_scaled)"
   ]
  },
  {
   "cell_type": "code",
   "execution_count": null,
   "metadata": {},
   "outputs": [],
   "source": [
    "r2_score(y_hold_out**2, pred**2)"
   ]
  },
  {
   "cell_type": "code",
   "execution_count": null,
   "metadata": {},
   "outputs": [],
   "source": [
    "# Undo sqrt score\n",
    "y_hold2 = y_hold_out **2\n",
    "pred2 = pred **2\n",
    "\n",
    "# Calculate RMSE\n",
    "error = y_hold2 - pred2\n",
    "sumerr = (error**2).sum()\n",
    "mean = sumerr / len(y_hold_out)\n",
    "print(np.sqrt(mean).round(2))"
   ]
  },
  {
   "cell_type": "code",
   "execution_count": null,
   "metadata": {},
   "outputs": [],
   "source": [
    "# Plot predicted score against actual score\n",
    "plt.figure(figsize=(9,6))\n",
    "plt.scatter(pred**2, y_hold_out**2, alpha=0.6);\n",
    "plt.ylabel('Actual Score', size=14)\n",
    "plt.xlabel('Predicted Score', size=14)\n",
    "plt.title('Actual Score of Match against Model Predicted Score', size=14)\n",
    "plt.plot(np.linspace(0, 70, 10), np.linspace(0, 70, 10), color='r')\n",
    "plt.savefig('model.png');"
   ]
  },
  {
   "cell_type": "markdown",
   "metadata": {},
   "source": [
    "---"
   ]
  },
  {
   "cell_type": "markdown",
   "metadata": {},
   "source": [
    "# Make Prediction"
   ]
  },
  {
   "cell_type": "code",
   "execution_count": null,
   "metadata": {},
   "outputs": [],
   "source": [
    "# Create dataframe from upcoming match data & set predictor\n",
    "englanddict = {'OpponentWorldRanking': 2, 'CoachWinPerc': 80, 'Month' : 2,'Year' : 2019, 'Home': 0, 'sqrtscore': '?'}\n",
    "predictdf = pd.DataFrame([englanddict], columns=englanddict.keys())"
   ]
  },
  {
   "cell_type": "code",
   "execution_count": null,
   "metadata": {},
   "outputs": [],
   "source": [
    "X_predictor, y_predictor = predictdf.drop(\"sqrtscore\", axis=1), predictdf[\"sqrtscore\"] "
   ]
  },
  {
   "cell_type": "code",
   "execution_count": null,
   "metadata": {},
   "outputs": [],
   "source": [
    "# Scale X data\n",
    "X_train_scaled = scaler.fit_transform(X_train)\n",
    "X_pred_scaled = scaler.transform(X_predictor)"
   ]
  },
  {
   "cell_type": "code",
   "execution_count": null,
   "metadata": {},
   "outputs": [],
   "source": [
    "pred2 = float(lasso_model.predict(X_pred_scaled))\n",
    "score = pred2**2\n",
    "print(f\"Predicted Score: {score}\")"
   ]
  },
  {
   "cell_type": "markdown",
   "metadata": {},
   "source": [
    "---"
   ]
  },
  {
   "cell_type": "markdown",
   "metadata": {},
   "source": [
    "# Presentation"
   ]
  },
  {
   "cell_type": "code",
   "execution_count": null,
   "metadata": {},
   "outputs": [],
   "source": [
    "# England Score Distribution\n",
    "plt.figure(figsize=(9,6))\n",
    "plt.hist(rugby[\"Score\"]);\n",
    "plt.title(\"England Score Distribution since 2000\", size=14)\n",
    "plt.xlabel(\"England Score\", size=14)\n",
    "plt.ylabel(\"Number of Games with Score\", size=14);\n",
    "plt.savefig(\"scorehist.png\")"
   ]
  },
  {
   "cell_type": "markdown",
   "metadata": {},
   "source": [
    "---"
   ]
  }
 ],
 "metadata": {
  "kernelspec": {
   "display_name": "Python 3",
   "language": "python",
   "name": "python3"
  },
  "language_info": {
   "codemirror_mode": {
    "name": "ipython",
    "version": 3
   },
   "file_extension": ".py",
   "mimetype": "text/x-python",
   "name": "python",
   "nbconvert_exporter": "python",
   "pygments_lexer": "ipython3",
   "version": "3.6.8"
  },
  "toc": {
   "base_numbering": 1,
   "nav_menu": {},
   "number_sections": true,
   "sideBar": true,
   "skip_h1_title": false,
   "title_cell": "Table of Contents",
   "title_sidebar": "Contents",
   "toc_cell": false,
   "toc_position": {},
   "toc_section_display": true,
   "toc_window_display": false
  },
  "varInspector": {
   "cols": {
    "lenName": 16,
    "lenType": 16,
    "lenVar": 40
   },
   "kernels_config": {
    "python": {
     "delete_cmd_postfix": "",
     "delete_cmd_prefix": "del ",
     "library": "var_list.py",
     "varRefreshCmd": "print(var_dic_list())"
    },
    "r": {
     "delete_cmd_postfix": ") ",
     "delete_cmd_prefix": "rm(",
     "library": "var_list.r",
     "varRefreshCmd": "cat(var_dic_list()) "
    }
   },
   "types_to_exclude": [
    "module",
    "function",
    "builtin_function_or_method",
    "instance",
    "_Feature"
   ],
   "window_display": false
  }
 },
 "nbformat": 4,
 "nbformat_minor": 2
}
